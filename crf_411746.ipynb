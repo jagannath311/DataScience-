{
  "nbformat": 4,
  "nbformat_minor": 0,
  "metadata": {
    "colab": {
      "name": "crf_411746.ipynb",
      "provenance": [],
      "include_colab_link": true
    },
    "kernelspec": {
      "name": "python3",
      "display_name": "Python 3"
    }
  },
  "cells": [
    {
      "cell_type": "markdown",
      "metadata": {
        "id": "view-in-github",
        "colab_type": "text"
      },
      "source": [
        "<a href=\"https://colab.research.google.com/github/jagannath311/DataScience-/blob/master/crf_411746.ipynb\" target=\"_parent\"><img src=\"https://colab.research.google.com/assets/colab-badge.svg\" alt=\"Open In Colab\"/></a>"
      ]
    },
    {
      "cell_type": "code",
      "metadata": {
        "id": "_vPtcYbNIELL",
        "colab_type": "code",
        "colab": {}
      },
      "source": [
        "!pip install sklearn_crfsuite\n",
        "import sklearn_crfsuite\n",
        "from sklearn_crfsuite import metrics\n",
        "from sklearn.model_selection import train_test_split"
      ],
      "execution_count": 0,
      "outputs": []
    },
    {
      "cell_type": "code",
      "metadata": {
        "id": "7HkJ2xWWIVdO",
        "colab_type": "code",
        "colab": {}
      },
      "source": [
        "def readDataset(filename):\n",
        "  out=[]\n",
        "  sent=[]\n",
        "  lines=open(filename).readlines()\n",
        "  for line in lines:\n",
        "    line=line.strip()\n",
        "    if line=='':\n",
        "      out.append(sent)\n",
        "      sent=[]\n",
        "    else:\n",
        "      words=line.split()\n",
        "      sent.append((words[0],words[1]))\n",
        "  if(len(sent)!=0):\n",
        "    out.append(sent)\n",
        "  return out"
      ],
      "execution_count": 0,
      "outputs": []
    },
    {
      "cell_type": "code",
      "metadata": {
        "id": "VRuCJS5JI9o3",
        "colab_type": "code",
        "colab": {}
      },
      "source": [
        "sent_gnb=readDataset('predicted_words_gnb.txt')\n",
        "sent_mlp=readDataset('predicted_words_mlp.txt')\n",
        "sent_entMax=readDataset('predicted_words_l2.txt')\n"
      ],
      "execution_count": 0,
      "outputs": []
    },
    {
      "cell_type": "code",
      "metadata": {
        "id": "bM5qPdRPIYDN",
        "colab_type": "code",
        "colab": {}
      },
      "source": [
        "def extract_features(sentence,position):\n",
        "  features=[]\n",
        "  features.append('CurrentWord:'+sentence[position][0])\n",
        "  if(position<len(sentence)-1):\n",
        "    features.append('NextWord:'+sentence[position+1][0])\n",
        "  if(position<len(sentence)-2):\n",
        "    features.append('NexttoNextWord:'+sentence[position+2][0])\n",
        "  if(position>0):\n",
        "    features.append('prevWord:'+sentence[position-1][0])\n",
        "  if(position-1>0):\n",
        "    features.append('prevtoprevword:'+sentence[position-2][0])\n",
        "  if(position==0):\n",
        "    features.append('BOS')\n",
        "  if(position==len(sentence)-1):\n",
        "    features.append('EOS')\n",
        "  return features\n",
        "def extract_sentence_features(sentence):\n",
        "  return [extract_features(sentence,pos) for pos in range(len(sentence))]\n",
        "def extract_dataset_features(dataset):\n",
        "  return [extract_sentence_features(dataset[sent]) for sent in range(len(dataset))]\n"
      ],
      "execution_count": 0,
      "outputs": []
    },
    {
      "cell_type": "code",
      "metadata": {
        "id": "p_dd7mdxIse5",
        "colab_type": "code",
        "colab": {}
      },
      "source": [
        "  def extract_sentence_labels(sentence):\n",
        "    return [sentence[pos][1] for pos in range(len(sentence))]\n",
        "  def extract_dataset_labels(dataset):\n",
        "    return [extract_sentence_labels(dataset[sent]) for sent in range(len(dataset))]"
      ],
      "execution_count": 0,
      "outputs": []
    },
    {
      "cell_type": "code",
      "metadata": {
        "id": "PiYA5Kl1IyC6",
        "colab_type": "code",
        "colab": {}
      },
      "source": [
        "x_gnb=extract_dataset_features(sent_gnb)\n",
        "y_gnb=extract_dataset_labels(sent_gnb)\n",
        "x_mlp=extract_dataset_features(sent_mlp)\n",
        "y_mlp=extract_dataset_labels(sent_mlp)\n",
        "x_entMax=extract_dataset_features(sent_entMax)\n",
        "y_entMax=extract_dataset_labels(sent_entMax)\n",
        "\n",
        "train_x_gnb,test_x_gnb,train_y_gnb,test_y_gnb=train_test_split(x_entMax,y_entMax,test_size=0.2,random_state=1234)\n",
        "train_x_mlp,test_x_mlp,train_y_mlp,test_y_mlp=train_test_split(x_mlp,y_mlp,test_size=0.2,random_state=1234)\n",
        "train_x_entMax,test_x_entMax,train_y_entMax,test_y_entMax=train_test_split(x_entMax,y_entMax,test_size=0.2,random_state=1234)"
      ],
      "execution_count": 0,
      "outputs": []
    },
    {
      "cell_type": "code",
      "metadata": {
        "id": "F9_skcN-I7TM",
        "colab_type": "code",
        "outputId": "7fca8d59-7b02-4d04-dd0d-61a13cc35ca1",
        "colab": {
          "base_uri": "https://localhost:8080/",
          "height": 188
        }
      },
      "source": [
        "crf_gnb=sklearn_crfsuite.CRF(algorithm='lbfgs',all_possible_states=True,all_possible_transitions=True,c1=0.1,c2=0.1,max_iterations=100)\n",
        "crf_gnb.fit(train_x_gnb,train_y_gnb)\n",
        "crf_mlp=sklearn_crfsuite.CRF(algorithm='lbfgs',all_possible_states=True,all_possible_transitions=True,c1=0.1,c2=0.1,max_iterations=100)\n",
        "crf_mlp.fit(train_x_mlp,train_y_mlp)\n",
        "crf_entMax=sklearn_crfsuite.CRF(algorithm='lbfgs',all_possible_states=True,all_possible_transitions=True,c1=0.1,c2=0.1,max_iterations=100)\n",
        "crf_entMax.fit(train_x_entMax,train_y_entMax)"
      ],
      "execution_count": 0,
      "outputs": [
        {
          "output_type": "stream",
          "text": [
            "/usr/local/lib/python3.6/dist-packages/sklearn/base.py:197: FutureWarning: From version 0.24, get_params will raise an AttributeError if a parameter cannot be retrieved as an instance attribute. Previously it would return None.\n",
            "  FutureWarning)\n"
          ],
          "name": "stderr"
        },
        {
          "output_type": "execute_result",
          "data": {
            "text/plain": [
              "CRF(algorithm='lbfgs', all_possible_states=True, all_possible_transitions=True,\n",
              "    averaging=None, c=None, c1=0.1, c2=0.1, calibration_candidates=None,\n",
              "    calibration_eta=None, calibration_max_trials=None, calibration_rate=None,\n",
              "    calibration_samples=None, delta=None, epsilon=None, error_sensitive=None,\n",
              "    gamma=None, keep_tempfiles=None, linesearch=None, max_iterations=100,\n",
              "    max_linesearch=None, min_freq=None, model_filename=None, num_memories=None,\n",
              "    pa_type=None, period=None, trainer_cls=None, variance=None, verbose=False)"
            ]
          },
          "metadata": {
            "tags": []
          },
          "execution_count": 18
        }
      ]
    },
    {
      "cell_type": "code",
      "metadata": {
        "id": "NOKPvcThJF4R",
        "colab_type": "code",
        "colab": {}
      },
      "source": [
        "label_gnb=list(crf_gnb.classes_)\n",
        "label_mlp=list(crf_mlp.classes_)\n",
        "label_entMax=list(crf_entMax.classes_)"
      ],
      "execution_count": 0,
      "outputs": []
    },
    {
      "cell_type": "code",
      "metadata": {
        "id": "tuB0_3rCJJdr",
        "colab_type": "code",
        "colab": {}
      },
      "source": [
        "test_pred_gnb=crf_gnb.predict(test_x_gnb)\n",
        "metrics.flat_f1_score(test_y_gnb,test_pred_gnb,average='weighted',labels=label_gnb)\n",
        "metrics.flat_classification_report(test_y_gnb,test_pred_gnb,labels=label_gnb,digits=3)"
      ],
      "execution_count": 0,
      "outputs": []
    },
    {
      "cell_type": "code",
      "metadata": {
        "colab_type": "code",
        "id": "ZEnqXvZpO2lf",
        "outputId": "86304d12-21fa-4b7a-a46e-e28edf2c80e9",
        "colab": {
          "base_uri": "https://localhost:8080/",
          "height": 154
        }
      },
      "source": [
        "test_pred_mlp=crf_mlp.predict(test_x_mlp)\n",
        "metrics.flat_f1_score(test_y_mlp,test_pred_mlp,average='weighted',labels=label_mlp)\n",
        "metrics.flat_classification_report(test_y_mlp,test_pred_mlp,labels=label_mlp,digits=3)"
      ],
      "execution_count": 0,
      "outputs": [
        {
          "output_type": "stream",
          "text": [
            "/usr/local/lib/python3.6/dist-packages/sklearn/metrics/_classification.py:1515: UndefinedMetricWarning: F-score is ill-defined and being set to 0.0 in labels with no true nor predicted samples. Use `zero_division` parameter to control this behavior.\n",
            "  average, \"true nor predicted\", 'F-score is', len(true_sum)\n",
            "/usr/local/lib/python3.6/dist-packages/sklearn/metrics/_classification.py:1272: UndefinedMetricWarning: Precision and F-score are ill-defined and being set to 0.0 in labels with no predicted samples. Use `zero_division` parameter to control this behavior.\n",
            "  _warn_prf(average, modifier, msg_start, len(result))\n",
            "/usr/local/lib/python3.6/dist-packages/sklearn/metrics/_classification.py:1272: UndefinedMetricWarning: Recall and F-score are ill-defined and being set to 0.0 in labels with no true samples. Use `zero_division` parameter to control this behavior.\n",
            "  _warn_prf(average, modifier, msg_start, len(result))\n"
          ],
          "name": "stderr"
        },
        {
          "output_type": "execute_result",
          "data": {
            "text/plain": [
              "'              precision    recall  f1-score   support\\n\\n          bn      0.000     0.000     0.000         5\\n          en      0.660     0.493     0.564        67\\n          ml      0.000     0.000     0.000         0\\n          ta      0.000     0.000     0.000         0\\n          hi      0.534     0.765     0.629        51\\n          kn      0.000     0.000     0.000         0\\n          te      0.000     0.000     0.000         0\\n\\n   micro avg      0.585     0.585     0.585       123\\n   macro avg      0.171     0.180     0.170       123\\nweighted avg      0.581     0.585     0.568       123\\n'"
            ]
          },
          "metadata": {
            "tags": []
          },
          "execution_count": 25
        }
      ]
    },
    {
      "cell_type": "code",
      "metadata": {
        "colab_type": "code",
        "id": "VFRa4SnhO1oE",
        "outputId": "d3f4b2a7-7e52-45da-dbf4-ec7e3f711f74",
        "colab": {
          "base_uri": "https://localhost:8080/",
          "height": 154
        }
      },
      "source": [
        "test_pred_entMax=crf_entMax.predict(test_x_entMax)\n",
        "metrics.flat_f1_score(test_y_entMax,test_pred_entMax,average='weighted',labels=label_entMax)\n",
        "metrics.flat_classification_report(test_y_entMax,test_pred_entMax,labels=label_entMax,digits=3)"
      ],
      "execution_count": 0,
      "outputs": [
        {
          "output_type": "stream",
          "text": [
            "/usr/local/lib/python3.6/dist-packages/sklearn/metrics/_classification.py:1515: UndefinedMetricWarning: F-score is ill-defined and being set to 0.0 in labels with no true nor predicted samples. Use `zero_division` parameter to control this behavior.\n",
            "  average, \"true nor predicted\", 'F-score is', len(true_sum)\n",
            "/usr/local/lib/python3.6/dist-packages/sklearn/metrics/_classification.py:1272: UndefinedMetricWarning: Precision and F-score are ill-defined and being set to 0.0 in labels with no predicted samples. Use `zero_division` parameter to control this behavior.\n",
            "  _warn_prf(average, modifier, msg_start, len(result))\n",
            "/usr/local/lib/python3.6/dist-packages/sklearn/metrics/_classification.py:1272: UndefinedMetricWarning: Recall and F-score are ill-defined and being set to 0.0 in labels with no true samples. Use `zero_division` parameter to control this behavior.\n",
            "  _warn_prf(average, modifier, msg_start, len(result))\n"
          ],
          "name": "stderr"
        },
        {
          "output_type": "execute_result",
          "data": {
            "text/plain": [
              "'              precision    recall  f1-score   support\\n\\n          en      0.660     0.493     0.564        67\\n          hi      0.534     0.765     0.629        51\\n          ml      0.000     0.000     0.000         0\\n          kn      0.000     0.000     0.000         0\\n          bn      0.000     0.000     0.000         5\\n          te      0.000     0.000     0.000         0\\n\\n   micro avg      0.585     0.585     0.585       123\\n   macro avg      0.199     0.210     0.199       123\\nweighted avg      0.581     0.585     0.568       123\\n'"
            ]
          },
          "metadata": {
            "tags": []
          },
          "execution_count": 26
        }
      ]
    },
    {
      "cell_type": "code",
      "metadata": {
        "id": "F8w-FiNXli3z",
        "colab_type": "code",
        "colab": {}
      },
      "source": [
        ""
      ],
      "execution_count": 0,
      "outputs": []
    }
  ]
}