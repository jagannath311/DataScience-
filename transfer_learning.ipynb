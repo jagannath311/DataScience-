{
  "nbformat": 4,
  "nbformat_minor": 0,
  "metadata": {
    "colab": {
      "name": "transfer learning.ipynb",
      "provenance": [],
      "include_colab_link": true
    },
    "kernelspec": {
      "name": "python3",
      "display_name": "Python 3"
    }
  },
  "cells": [
    {
      "cell_type": "markdown",
      "metadata": {
        "id": "view-in-github",
        "colab_type": "text"
      },
      "source": [
        "<a href=\"https://colab.research.google.com/github/jagannath311/DataScience-/blob/master/transfer_learning.ipynb\" target=\"_parent\"><img src=\"https://colab.research.google.com/assets/colab-badge.svg\" alt=\"Open In Colab\"/></a>"
      ]
    },
    {
      "cell_type": "code",
      "metadata": {
        "id": "W7GVhL0u61Cl",
        "colab_type": "code",
        "colab": {}
      },
      "source": [
        "import pandas as pd\n",
        "import numpy as np\n",
        "from collections import Counter\n",
        "import sklearn\n",
        "from sklearn.model_selection import train_test_split\n",
        "from sklearn.naive_bayes import MultinomialNB\n",
        "from scipy.linalg import eigh as largest_eigh\n",
        "from sklearn import svm\n",
        "from scipy.sparse.linalg.eigen.arpack import eigsh as largest_eigsh\n",
        "from sklearn.metrics import accuracy_score"
      ],
      "execution_count": 0,
      "outputs": []
    },
    {
      "cell_type": "code",
      "metadata": {
        "id": "-IEAZgzq69hP",
        "colab_type": "code",
        "colab": {}
      },
      "source": [
        "def get_words_labels(temp_Reviews):\n",
        "    dict_reviews=[]\n",
        "    label=[]\n",
        "    for i in range(0,len(temp_Reviews)-1):\n",
        "            k=0\n",
        "            temp=[]\n",
        "            for j in range(len(temp_Reviews[i])):\n",
        "                l=temp_Reviews[i][j].split(\":\")\n",
        "                if len(l)==2:\n",
        "                    l[1]=int(l[1])\n",
        "                    temp.append(l)\n",
        "            if i+1 <=len(temp_Reviews)-1:\n",
        "                t=temp_Reviews[i+1][0].split('\\n')\n",
        "                try:\n",
        "                    temp_Reviews[i+1][0]=t[1]\n",
        "                except:\n",
        "                    k+=1\n",
        "            label.append(num(t[0]))\n",
        "            dict_reviews.append(temp)\n",
        "    return dict_reviews,label"
      ],
      "execution_count": 0,
      "outputs": []
    },
    {
      "cell_type": "code",
      "metadata": {
        "id": "x5ym4zOTSmOf",
        "colab_type": "code",
        "outputId": "994e838c-7b74-45c1-fa65-cc27f3e29f8a",
        "colab": {
          "base_uri": "https://localhost:8080/",
          "height": 34
        }
      },
      "source": [
        "from google.colab import drive\n",
        "drive.mount('/content/drive')"
      ],
      "execution_count": 0,
      "outputs": [
        {
          "output_type": "stream",
          "text": [
            "Drive already mounted at /content/drive; to attempt to forcibly remount, call drive.mount(\"/content/drive\", force_remount=True).\n"
          ],
          "name": "stdout"
        }
      ]
    },
    {
      "cell_type": "code",
      "metadata": {
        "id": "KECivjQl69cy",
        "colab_type": "code",
        "colab": {}
      },
      "source": [
        "def num(s):\n",
        "    try:\n",
        "        return int(s)\n",
        "    except ValueError:\n",
        "        return float(s)"
      ],
      "execution_count": 0,
      "outputs": []
    },
    {
      "cell_type": "code",
      "metadata": {
        "id": "fr5uGO1769cT",
        "colab_type": "code",
        "colab": {}
      },
      "source": [
        "def Return_words_in_reviews(path):\n",
        "    file=open(path)\n",
        "    txt=file.read()\n",
        "    Reviews=txt.split('#label#:')\n",
        "    temp_Reviews=[]\n",
        "    for i in Reviews:\n",
        "        temp_Reviews.append(i.split(\" \"))\n",
        "\n",
        "    dict_reviews,labels=get_words_labels(temp_Reviews)\n",
        "    return dict_reviews,labels"
      ],
      "execution_count": 0,
      "outputs": []
    },
    {
      "cell_type": "code",
      "metadata": {
        "id": "BLd8MQKG69X1",
        "colab_type": "code",
        "colab": {}
      },
      "source": [
        "def Return_Vocab(Reviews):\n",
        "    vocab={}\n",
        "    for i in range(len(Reviews)):\n",
        "        for j in Reviews[i]:\n",
        "            if j[0] not in vocab:\n",
        "                vocab[j[0]]=j[1]\n",
        "            else:\n",
        "                vocab[j[0]]+=j[1]\n",
        "    vocab1=Counter()\n",
        "    t=list(vocab.keys())\n",
        "    for i in range(len(t)):\n",
        "        vocab1[t[i]]+=vocab[t[i]]\n",
        "    return vocab1"
      ],
      "execution_count": 0,
      "outputs": []
    },
    {
      "cell_type": "code",
      "metadata": {
        "id": "WukHPJOz69XX",
        "colab_type": "code",
        "colab": {}
      },
      "source": [
        "def get_words_dict(Reviews):\n",
        "    return [dict(i) for i in Reviews]"
      ],
      "execution_count": 0,
      "outputs": []
    },
    {
      "cell_type": "code",
      "metadata": {
        "id": "KFuGm7WE69Ta",
        "colab_type": "code",
        "colab": {}
      },
      "source": [
        "Book_Reviews,Books_Labels=Return_words_in_reviews('/content/drive/My Drive/processed_stars/electronics/all_balanced.review')"
      ],
      "execution_count": 0,
      "outputs": []
    },
    {
      "cell_type": "code",
      "metadata": {
        "id": "JGRevIZX69S2",
        "colab_type": "code",
        "colab": {}
      },
      "source": [
        "Book_words=get_words_dict(Book_Reviews)"
      ],
      "execution_count": 0,
      "outputs": []
    },
    {
      "cell_type": "code",
      "metadata": {
        "id": "5xOtKVVK69Ow",
        "colab_type": "code",
        "colab": {}
      },
      "source": [
        "Books_vocab=Return_Vocab(Book_Reviews)"
      ],
      "execution_count": 0,
      "outputs": []
    },
    {
      "cell_type": "code",
      "metadata": {
        "id": "J1ryi-uF69OG",
        "colab_type": "code",
        "colab": {}
      },
      "source": [
        "Dvd_Reviews,Dvd_Labels=Return_words_in_reviews('/content/drive/My Drive/processed_stars/kitchen/all_balanced.review')"
      ],
      "execution_count": 0,
      "outputs": []
    },
    {
      "cell_type": "code",
      "metadata": {
        "id": "MWEsyHT669Je",
        "colab_type": "code",
        "colab": {}
      },
      "source": [
        "Dvd_words=get_words_dict(Dvd_Reviews)"
      ],
      "execution_count": 0,
      "outputs": []
    },
    {
      "cell_type": "code",
      "metadata": {
        "id": "4EPIaWVY69I2",
        "colab_type": "code",
        "colab": {}
      },
      "source": [
        "Dvd_vocab=Return_Vocab(Dvd_Reviews)"
      ],
      "execution_count": 0,
      "outputs": []
    },
    {
      "cell_type": "code",
      "metadata": {
        "id": "v4s7_1zS69Ec",
        "colab_type": "code",
        "colab": {}
      },
      "source": [
        "def Domain_Independent_words(vocab1,vocab2,l):\n",
        "    sort1=vocab1.most_common()\n",
        "    sort2=vocab2.most_common()\n",
        "    cnt1=1\n",
        "    cnt2=cnt(sort1[cnt1][1],sort2)\n",
        "    while cnt1+cnt2 <= l:\n",
        "        cnt1+=1\n",
        "        cnt2=cnt(sort1[cnt1][1],sort2)\n",
        "    return list(dict(sort1[:cnt1]).keys()),list(dict(sort2[:cnt2]).keys())"
      ],
      "execution_count": 0,
      "outputs": []
    },
    {
      "cell_type": "code",
      "metadata": {
        "id": "JTBXNsbB69D7",
        "colab_type": "code",
        "colab": {}
      },
      "source": [
        "def cnt(min_cnt,lis):\n",
        "    j=0\n",
        "    try:\n",
        "        while(lis[j][1]>=min_cnt):\n",
        "            j+=1\n",
        "    except:\n",
        "        return j\n",
        "    return j+1"
      ],
      "execution_count": 0,
      "outputs": []
    },
    {
      "cell_type": "code",
      "metadata": {
        "id": "sg98uUkr68_E",
        "colab_type": "code",
        "colab": {}
      },
      "source": [
        "def Domain_Specific_words(vocab1,d_indepe):\n",
        "    return list(set(list(vocab1.keys()))-set(d_indepe))"
      ],
      "execution_count": 0,
      "outputs": []
    },
    {
      "cell_type": "code",
      "metadata": {
        "id": "7kqraxhX68-o",
        "colab_type": "code",
        "outputId": "deabdc80-eb86-4a1f-b10b-e6badda8715c",
        "colab": {
          "base_uri": "https://localhost:8080/",
          "height": 34
        }
      },
      "source": [
        "\n",
        "Books_domain_indep_B_D,Dvd_domain_indep_B_D=Domain_Independent_words(Books_vocab,Dvd_vocab,782)\n",
        "print(len(list(set(Books_domain_indep_B_D)|set(Dvd_domain_indep_B_D))))"
      ],
      "execution_count": 0,
      "outputs": [
        {
          "output_type": "stream",
          "text": [
            "500\n"
          ],
          "name": "stdout"
        }
      ]
    },
    {
      "cell_type": "code",
      "metadata": {
        "id": "L_N7nVX36862",
        "colab_type": "code",
        "colab": {}
      },
      "source": [
        "Domain_Independent_BD=list(set(Books_domain_indep_B_D)|set(Dvd_domain_indep_B_D))"
      ],
      "execution_count": 0,
      "outputs": []
    },
    {
      "cell_type": "code",
      "metadata": {
        "id": "-mmKvyB9686Y",
        "colab_type": "code",
        "colab": {}
      },
      "source": [
        "Books_vocab1=dict(Books_vocab.most_common(11949))\n",
        "Dvd_vocab1=dict(Dvd_vocab.most_common(9197))"
      ],
      "execution_count": 0,
      "outputs": []
    },
    {
      "cell_type": "code",
      "metadata": {
        "id": "YknuTW1F681n",
        "colab_type": "code",
        "colab": {}
      },
      "source": [
        "Book_domain_dep_B_D=Domain_Specific_words(Books_vocab1,Domain_Independent_BD)\n",
        "Dvd_domain_dep_B_D=Domain_Specific_words(Dvd_vocab1,Domain_Independent_BD)"
      ],
      "execution_count": 0,
      "outputs": []
    },
    {
      "cell_type": "code",
      "metadata": {
        "id": "UAq6wLYI681K",
        "colab_type": "code",
        "colab": {}
      },
      "source": [
        "Domain_Specific_B_D=list(set(Book_domain_dep_B_D)|set(Dvd_domain_dep_B_D))"
      ],
      "execution_count": 0,
      "outputs": []
    },
    {
      "cell_type": "code",
      "metadata": {
        "id": "DUKlyXyK68wa",
        "colab_type": "code",
        "outputId": "dec584e1-eee3-4c48-fb71-d83f669b4bbe",
        "colab": {
          "base_uri": "https://localhost:8080/",
          "height": 229
        }
      },
      "source": [
        "    cnt=0\n",
        "    if word1 in Review1 and word2 in Review1:\n",
        "        cnt += min(Review1[word1],Review1[word2])\n",
        "    if word1 in Review2 and word2 in Review2:\n",
        "        cnt += min(Review2[word1],Review2[word2])\n",
        "    return cnt"
      ],
      "execution_count": 0,
      "outputs": [
        {
          "output_type": "error",
          "ename": "NameError",
          "evalue": "ignored",
          "traceback": [
            "\u001b[0;31m---------------------------------------------------------------------------\u001b[0m",
            "\u001b[0;31mNameError\u001b[0m                                 Traceback (most recent call last)",
            "\u001b[0;32m<ipython-input-29-e77c31553cb9>\u001b[0m in \u001b[0;36m<module>\u001b[0;34m()\u001b[0m\n\u001b[1;32m      1\u001b[0m \u001b[0mcnt\u001b[0m\u001b[0;34m=\u001b[0m\u001b[0;36m0\u001b[0m\u001b[0;34m\u001b[0m\u001b[0;34m\u001b[0m\u001b[0m\n\u001b[0;32m----> 2\u001b[0;31m \u001b[0;32mif\u001b[0m \u001b[0mword1\u001b[0m \u001b[0;32min\u001b[0m \u001b[0mReview1\u001b[0m \u001b[0;32mand\u001b[0m \u001b[0mword2\u001b[0m \u001b[0;32min\u001b[0m \u001b[0mReview1\u001b[0m\u001b[0;34m:\u001b[0m\u001b[0;34m\u001b[0m\u001b[0;34m\u001b[0m\u001b[0m\n\u001b[0m\u001b[1;32m      3\u001b[0m     \u001b[0mcnt\u001b[0m \u001b[0;34m+=\u001b[0m \u001b[0mmin\u001b[0m\u001b[0;34m(\u001b[0m\u001b[0mReview1\u001b[0m\u001b[0;34m[\u001b[0m\u001b[0mword1\u001b[0m\u001b[0;34m]\u001b[0m\u001b[0;34m,\u001b[0m\u001b[0mReview1\u001b[0m\u001b[0;34m[\u001b[0m\u001b[0mword2\u001b[0m\u001b[0;34m]\u001b[0m\u001b[0;34m)\u001b[0m\u001b[0;34m\u001b[0m\u001b[0;34m\u001b[0m\u001b[0m\n\u001b[1;32m      4\u001b[0m \u001b[0;32mif\u001b[0m \u001b[0mword1\u001b[0m \u001b[0;32min\u001b[0m \u001b[0mReview2\u001b[0m \u001b[0;32mand\u001b[0m \u001b[0mword2\u001b[0m \u001b[0;32min\u001b[0m \u001b[0mReview2\u001b[0m\u001b[0;34m:\u001b[0m\u001b[0;34m\u001b[0m\u001b[0;34m\u001b[0m\u001b[0m\n\u001b[1;32m      5\u001b[0m     \u001b[0mcnt\u001b[0m \u001b[0;34m+=\u001b[0m \u001b[0mmin\u001b[0m\u001b[0;34m(\u001b[0m\u001b[0mReview2\u001b[0m\u001b[0;34m[\u001b[0m\u001b[0mword1\u001b[0m\u001b[0;34m]\u001b[0m\u001b[0;34m,\u001b[0m\u001b[0mReview2\u001b[0m\u001b[0;34m[\u001b[0m\u001b[0mword2\u001b[0m\u001b[0;34m]\u001b[0m\u001b[0;34m)\u001b[0m\u001b[0;34m\u001b[0m\u001b[0;34m\u001b[0m\u001b[0m\n",
            "\u001b[0;31mNameError\u001b[0m: name 'word1' is not defined"
          ]
        }
      ]
    },
    {
      "cell_type": "code",
      "metadata": {
        "id": "zXinVVza68vy",
        "colab_type": "code",
        "outputId": "d8db1630-21c9-46f0-f1a6-87fe45cf7324",
        "colab": {
          "base_uri": "https://localhost:8080/",
          "height": 229
        }
      },
      "source": [
        "co_occurance=[]\n",
        "for i in range(len(Domain_Specific_B_D)):\n",
        "    temp=[]\n",
        "    for j in range(0,len(Domain_Independent_BD)):\n",
        "        k=occurance(Domain_Specific_B_D[i],Domain_Independent_BD[j],Books_vocab,Dvd_vocab)\n",
        "        temp.append(k)\n",
        "    co_occurance.append(temp)"
      ],
      "execution_count": 0,
      "outputs": [
        {
          "output_type": "error",
          "ename": "NameError",
          "evalue": "ignored",
          "traceback": [
            "\u001b[0;31m---------------------------------------------------------------------------\u001b[0m",
            "\u001b[0;31mNameError\u001b[0m                                 Traceback (most recent call last)",
            "\u001b[0;32m<ipython-input-30-edf98d71dda7>\u001b[0m in \u001b[0;36m<module>\u001b[0;34m()\u001b[0m\n\u001b[1;32m      3\u001b[0m     \u001b[0mtemp\u001b[0m\u001b[0;34m=\u001b[0m\u001b[0;34m[\u001b[0m\u001b[0;34m]\u001b[0m\u001b[0;34m\u001b[0m\u001b[0;34m\u001b[0m\u001b[0m\n\u001b[1;32m      4\u001b[0m     \u001b[0;32mfor\u001b[0m \u001b[0mj\u001b[0m \u001b[0;32min\u001b[0m \u001b[0mrange\u001b[0m\u001b[0;34m(\u001b[0m\u001b[0;36m0\u001b[0m\u001b[0;34m,\u001b[0m\u001b[0mlen\u001b[0m\u001b[0;34m(\u001b[0m\u001b[0mDomain_Independent_BD\u001b[0m\u001b[0;34m)\u001b[0m\u001b[0;34m)\u001b[0m\u001b[0;34m:\u001b[0m\u001b[0;34m\u001b[0m\u001b[0;34m\u001b[0m\u001b[0m\n\u001b[0;32m----> 5\u001b[0;31m         \u001b[0mk\u001b[0m\u001b[0;34m=\u001b[0m\u001b[0moccurance\u001b[0m\u001b[0;34m(\u001b[0m\u001b[0mDomain_Specific_B_D\u001b[0m\u001b[0;34m[\u001b[0m\u001b[0mi\u001b[0m\u001b[0;34m]\u001b[0m\u001b[0;34m,\u001b[0m\u001b[0mDomain_Independent_BD\u001b[0m\u001b[0;34m[\u001b[0m\u001b[0mj\u001b[0m\u001b[0;34m]\u001b[0m\u001b[0;34m,\u001b[0m\u001b[0mBooks_vocab\u001b[0m\u001b[0;34m,\u001b[0m\u001b[0mDvd_vocab\u001b[0m\u001b[0;34m)\u001b[0m\u001b[0;34m\u001b[0m\u001b[0;34m\u001b[0m\u001b[0m\n\u001b[0m\u001b[1;32m      6\u001b[0m         \u001b[0mtemp\u001b[0m\u001b[0;34m.\u001b[0m\u001b[0mappend\u001b[0m\u001b[0;34m(\u001b[0m\u001b[0mk\u001b[0m\u001b[0;34m)\u001b[0m\u001b[0;34m\u001b[0m\u001b[0;34m\u001b[0m\u001b[0m\n\u001b[1;32m      7\u001b[0m     \u001b[0mco_occurance\u001b[0m\u001b[0;34m.\u001b[0m\u001b[0mappend\u001b[0m\u001b[0;34m(\u001b[0m\u001b[0mtemp\u001b[0m\u001b[0;34m)\u001b[0m\u001b[0;34m\u001b[0m\u001b[0;34m\u001b[0m\u001b[0m\n",
            "\u001b[0;31mNameError\u001b[0m: name 'occurance' is not defined"
          ]
        }
      ]
    },
    {
      "cell_type": "code",
      "metadata": {
        "id": "UbwndfPw8E_k",
        "colab_type": "code",
        "colab": {}
      },
      "source": [
        "M=np.asarray(co_occurance)"
      ],
      "execution_count": 0,
      "outputs": []
    },
    {
      "cell_type": "code",
      "metadata": {
        "id": "ZRP7Fauv8E6t",
        "colab_type": "code",
        "colab": {}
      },
      "source": [
        "def AffinityMatrix(M):\n",
        "    m=M.shape[0]+M.shape[1]\n",
        "    l=M.shape[1]\n",
        "    temp=np.zeros((m,m))\n",
        "    M1=np.transpose(M)\n",
        "    for i in range(0,m-l):\n",
        "        for j in range(m):\n",
        "            if j<m-l:\n",
        "                temp[i][j]=0\n",
        "            else:\n",
        "                temp[i][j]=M[i][j-m+l]\n",
        "    for i in range(m-l,m):\n",
        "        for j in range(m):\n",
        "            if j>=m-l:\n",
        "                temp[i][j]=0\n",
        "            else:\n",
        "                temp[i][j]=M1[i-m+l][j]\n",
        "    return temp    "
      ],
      "execution_count": 0,
      "outputs": []
    },
    {
      "cell_type": "code",
      "metadata": {
        "id": "8GncmG7T8E6I",
        "colab_type": "code",
        "colab": {}
      },
      "source": [
        "Aff=AffinityMatrix(M)"
      ],
      "execution_count": 0,
      "outputs": []
    },
    {
      "cell_type": "code",
      "metadata": {
        "id": "FclE-3gX8E2r",
        "colab_type": "code",
        "colab": {}
      },
      "source": [
        "D=np.zeros((len(Aff),len(Aff)))\n",
        "for i in range(len(Aff)):\n",
        "    D[i][i]=sum(Aff[i][j] for j in range(len(Aff[i])))\n",
        "D_inv=np.linalg.matrix_power(D,-1)\n",
        "Laplacian=np.matmul(np.matmul(D_inv,Aff),D_inv)"
      ],
      "execution_count": 0,
      "outputs": []
    },
    {
      "cell_type": "code",
      "metadata": {
        "id": "cdYaJTdS8Exx",
        "colab_type": "code",
        "colab": {}
      },
      "source": [
        "k=10\n",
        "evals_large_sparse, evecs_large_sparse = largest_eigsh(Laplacian, k, which='LM')"
      ],
      "execution_count": 0,
      "outputs": []
    },
    {
      "cell_type": "code",
      "metadata": {
        "id": "JpDWsGSh8ExN",
        "colab_type": "code",
        "colab": {}
      },
      "source": [
        "def Return_Features_For_mapping(words,Domain_Specific):\n",
        "    l=[]\n",
        "    z=0\n",
        "    for i in range(len(words)):\n",
        "        temp=np.zeros(len(Domain_Specific))\n",
        "        for word in words[i].keys():\n",
        "            try:\n",
        "                ind=Domain_Specific.index(word)\n",
        "                temp[ind]+=1\n",
        "            except:\n",
        "                z+=1\n",
        "        l.append(temp)\n",
        "    return l"
      ],
      "execution_count": 0,
      "outputs": []
    },
    {
      "cell_type": "code",
      "metadata": {
        "id": "EXELURrf8EtH",
        "colab_type": "code",
        "colab": {}
      },
      "source": [
        "def general_features(words,Domain_specific,Domain_indepe):\n",
        "    comb_vocab=Domain_specific.copy()\n",
        "    for j in Domain_indepe:\n",
        "        comb_vocab.append(j)\n",
        "    z=0\n",
        "    l=[]\n",
        "    for i in range(len(words)):\n",
        "        temp=np.zeros(len(comb_vocab))\n",
        "        for word in words[i].keys():\n",
        "            try:\n",
        "                ind=comb_vocab.index(word)\n",
        "                temp[ind]+=1\n",
        "            except:\n",
        "                z=1\n",
        "        l.append(temp)\n",
        "\n",
        "    return l"
      ],
      "execution_count": 0,
      "outputs": []
    },
    {
      "cell_type": "code",
      "metadata": {
        "id": "ikQJ3oU-8EsF",
        "colab_type": "code",
        "colab": {}
      },
      "source": [
        "def Whole_Features(features,extra_features):\n",
        "    l=[]\n",
        "    for i,j in zip(features,extra_features):\n",
        "        temp=list(i.copy())\n",
        "        for s in j:\n",
        "            temp.append(s)\n",
        "        l.append(temp)\n",
        "    return l"
      ],
      "execution_count": 0,
      "outputs": []
    },
    {
      "cell_type": "code",
      "metadata": {
        "id": "c0737O4Z8lZG",
        "colab_type": "code",
        "colab": {}
      },
      "source": [
        "def Extract_Features(features_for_Mapping,gamma,U):\n",
        "    l=[]\n",
        "    for f1 in features_for_Mapping:\n",
        "        s=[]\n",
        "        t=list(gamma*np.matmul(f1,U))\n",
        "        for i in t:\n",
        "            s.append(i)\n",
        "        l.append(s)\n",
        "    return l"
      ],
      "execution_count": 0,
      "outputs": []
    },
    {
      "cell_type": "code",
      "metadata": {
        "id": "CLpWtI7L8lVP",
        "colab_type": "code",
        "colab": {}
      },
      "source": [
        "Books_general_features=general_features(Book_words,Domain_Specific_B_D,Domain_Independent_BD)\n",
        "Books_mapping_features=Return_Features_For_mapping(Book_words,Domain_Specific_B_D)"
      ],
      "execution_count": 0,
      "outputs": []
    },
    {
      "cell_type": "code",
      "metadata": {
        "id": "XXjEAc-l8lRB",
        "colab_type": "code",
        "colab": {}
      },
      "source": [
        "Books_Extra_Features=Extract_Features(Books_mapping_features,0.6,evecs_large_sparse[:len(Domain_Specific_B_D)])\n",
        "Books_whole_features=Whole_Features(Books_general_features,Books_Extra_Features)"
      ],
      "execution_count": 0,
      "outputs": []
    },
    {
      "cell_type": "code",
      "metadata": {
        "id": "ZogZ3sM48lPv",
        "colab_type": "code",
        "colab": {}
      },
      "source": [
        "Dvd_general_features=general_features(Dvd_words,Domain_Specific_B_D,Domain_Independent_BD)\n",
        "Dvd_mapping_features=Return_Features_For_mapping(Dvd_words,Domain_Specific_B_D)"
      ],
      "execution_count": 0,
      "outputs": []
    },
    {
      "cell_type": "code",
      "metadata": {
        "id": "IP9pMmqi8lLU",
        "colab_type": "code",
        "colab": {}
      },
      "source": [
        "Dvd_Extra_Features=Extract_Features(Dvd_mapping_features,0.6,evecs_large_sparse[:len(Domain_Specific_B_D)])\n",
        "Dvd_whole_features=Whole_Features(Dvd_general_features,Dvd_Extra_Features)"
      ],
      "execution_count": 0,
      "outputs": []
    },
    {
      "cell_type": "code",
      "metadata": {
        "id": "60EE--l-8lKs",
        "colab_type": "code",
        "colab": {}
      },
      "source": [
        "Whole_BD_Features=Books_whole_features.copy()\n",
        "for j in Dvd_whole_features:\n",
        "    Whole_BD_Features.append(j)"
      ],
      "execution_count": 0,
      "outputs": []
    },
    {
      "cell_type": "code",
      "metadata": {
        "id": "vSU2rstQ8lFq",
        "colab_type": "code",
        "colab": {}
      },
      "source": [
        "def Binarise_Labels(Labels):\n",
        "    bin_labels=[]\n",
        "    for i in Labels:\n",
        "        if i>=3:\n",
        "            bin_labels.append(1)\n",
        "        else:\n",
        "            bin_labels.append(0)\n",
        "    return bin_labels"
      ],
      "execution_count": 0,
      "outputs": []
    },
    {
      "cell_type": "code",
      "metadata": {
        "id": "CjXw0XdC8lFI",
        "colab_type": "code",
        "colab": {}
      },
      "source": [
        "Books_Binarise_Labels=Binarise_Labels(Books_Labels)\n",
        "Dvd_Binarise_Labels=Binarise_Labels(Dvd_Labels)"
      ],
      "execution_count": 0,
      "outputs": []
    },
    {
      "cell_type": "code",
      "metadata": {
        "id": "EZy84bJS8k62",
        "colab_type": "code",
        "colab": {}
      },
      "source": [
        "BD_Whole_labels=Books_Binarise_Labels.copy()\n",
        "for i in Dvd_Binarise_Labels:\n",
        "    BD_Whole_labels.append(i)"
      ],
      "execution_count": 0,
      "outputs": []
    },
    {
      "cell_type": "code",
      "metadata": {
        "id": "-H2O68bL9Oet",
        "colab_type": "code",
        "colab": {}
      },
      "source": [
        "x1_train,x1_test,y1_train,y1_test=train_test_split(Whole_BD_Features,BD_Whole_labels,test_size=0.3,random_state=10,stratify=BD_Whole_labels)"
      ],
      "execution_count": 0,
      "outputs": []
    },
    {
      "cell_type": "code",
      "metadata": {
        "id": "XLF_ONoq9OZ6",
        "colab_type": "code",
        "colab": {}
      },
      "source": [
        "#-------------------------------------------------------------------BUILDING SVM CLASSIFIER MODEL FOR UNIGRAM FREQUENCY FEATURES-------------------------------------------------------------------------------\n",
        "#--------------------------takes a couple of minutes--------------------------------------------\n",
        "svm_clf=svm.SVC()\n",
        "svm_clf.fit(x1_train,y1_train)\n",
        "y1_pred_svm=svm_clf.predict(x1_test)\n",
        "print(\"Testing data Accuracy Score of SVM Classifier Model: \",accuracy_score(y1_test,y1_pred_svm))"
      ],
      "execution_count": 0,
      "outputs": []
    },
    {
      "cell_type": "code",
      "metadata": {
        "id": "c40hULPg9OZP",
        "colab_type": "code",
        "colab": {}
      },
      "source": [
        "nb1=GaussianNB()\n",
        "nb1.fit(x1_train,y1_train)\n",
        "print('Training Accuracy Score of Naive Bayes Model: ',nb1.score(x1_train,y1_train))\n",
        "y1_predict=nb1.predict(x1_test)\n",
        "print('Testing Accuracy Score of Naive Bayes Model:  ',accuracy_score(y1_test,y1_predict))"
      ],
      "execution_count": 0,
      "outputs": []
    },
    {
      "cell_type": "code",
      "metadata": {
        "id": "-aAI7wZV9OVA",
        "colab_type": "code",
        "colab": {}
      },
      "source": [
        "from sklearn.preprocessing import StandardScaler\n",
        "scaler = StandardScaler()\n",
        "scaler.fit(x1_train)\n",
        "StandardScaler(copy=True, with_mean=True, with_std=True)\n",
        "x1_train = scaler.transform(x1_train)\n",
        "x1_test = scaler.transform(x1_test)"
      ],
      "execution_count": 0,
      "outputs": []
    },
    {
      "cell_type": "code",
      "metadata": {
        "id": "J-BETSY-9OUC",
        "colab_type": "code",
        "colab": {}
      },
      "source": [
        "from sklearn.neural_network import MLPClassifier\n",
        "mlp = MLPClassifier(hidden_layer_sizes=(13,13,13),max_iter=2)"
      ],
      "execution_count": 0,
      "outputs": []
    },
    {
      "cell_type": "code",
      "metadata": {
        "id": "FAs39Ipq97il",
        "colab_type": "code",
        "colab": {}
      },
      "source": [
        "mlp.fit(x1_train,y1_train)\n",
        "predictions = mlp.predict(x1_test)\n"
      ],
      "execution_count": 0,
      "outputs": []
    }
  ]
}